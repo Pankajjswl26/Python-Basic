{
 "cells": [
  {
   "cell_type": "code",
   "execution_count": 1,
   "id": "0c77464a",
   "metadata": {},
   "outputs": [],
   "source": [
    "car=20\n",
    "bike=40"
   ]
  },
  {
   "cell_type": "code",
   "execution_count": 2,
   "id": "fb363fb9",
   "metadata": {},
   "outputs": [
    {
     "name": "stdout",
     "output_type": "stream",
     "text": [
      "True\n"
     ]
    }
   ],
   "source": [
    "print(car<bike)"
   ]
  },
  {
   "cell_type": "code",
   "execution_count": 3,
   "id": "69d8af31",
   "metadata": {},
   "outputs": [],
   "source": [
    "devisree=5\n",
    "pankaj=10"
   ]
  },
  {
   "cell_type": "code",
   "execution_count": 4,
   "id": "3c158797",
   "metadata": {},
   "outputs": [
    {
     "name": "stdout",
     "output_type": "stream",
     "text": [
      "False\n"
     ]
    }
   ],
   "source": [
    "print(devisree>pankaj)"
   ]
  },
  {
   "cell_type": "code",
   "execution_count": 7,
   "id": "e09403d1",
   "metadata": {},
   "outputs": [],
   "source": [
    "p=100\n",
    "j=10"
   ]
  },
  {
   "cell_type": "code",
   "execution_count": 8,
   "id": "8db76b27",
   "metadata": {},
   "outputs": [
    {
     "name": "stdout",
     "output_type": "stream",
     "text": [
      "True\n"
     ]
    }
   ],
   "source": [
    "print(p>j)"
   ]
  },
  {
   "cell_type": "code",
   "execution_count": 9,
   "id": "74c3cdef",
   "metadata": {},
   "outputs": [
    {
     "ename": "SyntaxError",
     "evalue": "invalid syntax (1314975233.py, line 1)",
     "output_type": "error",
     "traceback": [
      "\u001b[1;36m  Cell \u001b[1;32mIn[9], line 1\u001b[1;36m\u001b[0m\n\u001b[1;33m    +,-,*,/,%\u001b[0m\n\u001b[1;37m     ^\u001b[0m\n\u001b[1;31mSyntaxError\u001b[0m\u001b[1;31m:\u001b[0m invalid syntax\n"
     ]
    }
   ],
   "source": [
    "+,-,*,/,%"
   ]
  },
  {
   "cell_type": "code",
   "execution_count": null,
   "id": "7bc02a7a",
   "metadata": {},
   "outputs": [],
   "source": [
    "+,-,*,/,%"
   ]
  },
  {
   "cell_type": "code",
   "execution_count": 11,
   "id": "56a377bc",
   "metadata": {},
   "outputs": [],
   "source": [
    "a=10\n",
    "b=20"
   ]
  },
  {
   "cell_type": "code",
   "execution_count": 12,
   "id": "ed521286",
   "metadata": {},
   "outputs": [
    {
     "data": {
      "text/plain": [
       "30"
      ]
     },
     "execution_count": 12,
     "metadata": {},
     "output_type": "execute_result"
    }
   ],
   "source": [
    "a+b"
   ]
  },
  {
   "cell_type": "code",
   "execution_count": 13,
   "id": "eb599847",
   "metadata": {},
   "outputs": [
    {
     "data": {
      "text/plain": [
       "10"
      ]
     },
     "execution_count": 13,
     "metadata": {},
     "output_type": "execute_result"
    }
   ],
   "source": [
    "b-a"
   ]
  },
  {
   "cell_type": "code",
   "execution_count": 14,
   "id": "8c67914c",
   "metadata": {},
   "outputs": [
    {
     "data": {
      "text/plain": [
       "-10"
      ]
     },
     "execution_count": 14,
     "metadata": {},
     "output_type": "execute_result"
    }
   ],
   "source": [
    "a-b"
   ]
  },
  {
   "cell_type": "code",
   "execution_count": 15,
   "id": "8a9b0ca9",
   "metadata": {},
   "outputs": [
    {
     "data": {
      "text/plain": [
       "200"
      ]
     },
     "execution_count": 15,
     "metadata": {},
     "output_type": "execute_result"
    }
   ],
   "source": [
    "a*b"
   ]
  },
  {
   "cell_type": "code",
   "execution_count": 16,
   "id": "b21ffeaa",
   "metadata": {},
   "outputs": [
    {
     "data": {
      "text/plain": [
       "0.5"
      ]
     },
     "execution_count": 16,
     "metadata": {},
     "output_type": "execute_result"
    }
   ],
   "source": [
    "a/b"
   ]
  },
  {
   "cell_type": "code",
   "execution_count": 17,
   "id": "4c5e0a34",
   "metadata": {},
   "outputs": [
    {
     "data": {
      "text/plain": [
       "2.0"
      ]
     },
     "execution_count": 17,
     "metadata": {},
     "output_type": "execute_result"
    }
   ],
   "source": [
    "b/a"
   ]
  },
  {
   "cell_type": "code",
   "execution_count": 18,
   "id": "fd816927",
   "metadata": {},
   "outputs": [],
   "source": [
    "a=124\n",
    "b=100\n",
    "c=122\n",
    "d=17"
   ]
  },
  {
   "cell_type": "code",
   "execution_count": 19,
   "id": "eb3dd603",
   "metadata": {},
   "outputs": [
    {
     "data": {
      "text/plain": [
       "363"
      ]
     },
     "execution_count": 19,
     "metadata": {},
     "output_type": "execute_result"
    }
   ],
   "source": [
    "a+b+c+d"
   ]
  },
  {
   "cell_type": "code",
   "execution_count": 20,
   "id": "db284799",
   "metadata": {},
   "outputs": [
    {
     "data": {
      "text/plain": [
       "841.6470588235294"
      ]
     },
     "execution_count": 20,
     "metadata": {},
     "output_type": "execute_result"
    }
   ],
   "source": [
    "a+b*c/d"
   ]
  },
  {
   "cell_type": "code",
   "execution_count": 21,
   "id": "142f1582",
   "metadata": {},
   "outputs": [],
   "source": [
    "pages=20\n",
    "cardb=30"
   ]
  },
  {
   "cell_type": "code",
   "execution_count": 22,
   "id": "4d05df2c",
   "metadata": {},
   "outputs": [],
   "source": [
    "book= pages + cardb"
   ]
  },
  {
   "cell_type": "code",
   "execution_count": 23,
   "id": "9b16065f",
   "metadata": {},
   "outputs": [
    {
     "name": "stdout",
     "output_type": "stream",
     "text": [
      "50\n"
     ]
    }
   ],
   "source": [
    "print(pages+cardb)"
   ]
  },
  {
   "cell_type": "code",
   "execution_count": 24,
   "id": "b6c05613",
   "metadata": {},
   "outputs": [
    {
     "name": "stdout",
     "output_type": "stream",
     "text": [
      "50\n"
     ]
    }
   ],
   "source": [
    "print(book)"
   ]
  },
  {
   "cell_type": "code",
   "execution_count": 28,
   "id": "019af29c",
   "metadata": {},
   "outputs": [
    {
     "name": "stdout",
     "output_type": "stream",
     "text": [
      "here we are doing concatination of pages and carb : value of book is:- 50\n"
     ]
    }
   ],
   "source": [
    "print(\"here we are doing concatination of pages and carb : value of book is:-\",book)"
   ]
  },
  {
   "cell_type": "code",
   "execution_count": 29,
   "id": "876ff64a",
   "metadata": {},
   "outputs": [],
   "source": [
    "a=40\n",
    "car=20\n",
    "value= a+car\n",
    "value2= a-car\n",
    "value3= a*car\n",
    "value4= a%car\n",
    "value5= a*100/car"
   ]
  },
  {
   "cell_type": "code",
   "execution_count": 30,
   "id": "c4c6ee97",
   "metadata": {},
   "outputs": [
    {
     "name": "stdout",
     "output_type": "stream",
     "text": [
      "60\n"
     ]
    }
   ],
   "source": [
    "print(value)"
   ]
  },
  {
   "cell_type": "code",
   "execution_count": 31,
   "id": "90dec98b",
   "metadata": {},
   "outputs": [
    {
     "name": "stdout",
     "output_type": "stream",
     "text": [
      "200.0\n"
     ]
    }
   ],
   "source": [
    "print(value5)"
   ]
  },
  {
   "cell_type": "code",
   "execution_count": 32,
   "id": "c2996663",
   "metadata": {},
   "outputs": [
    {
     "data": {
      "text/plain": [
       "1200"
      ]
     },
     "execution_count": 32,
     "metadata": {},
     "output_type": "execute_result"
    }
   ],
   "source": [
    "value*value2"
   ]
  },
  {
   "cell_type": "code",
   "execution_count": 33,
   "id": "c036088a",
   "metadata": {},
   "outputs": [
    {
     "data": {
      "text/plain": [
       "3.0"
      ]
     },
     "execution_count": 33,
     "metadata": {},
     "output_type": "execute_result"
    }
   ],
   "source": [
    "value/value2"
   ]
  },
  {
   "cell_type": "code",
   "execution_count": 34,
   "id": "1e3924c7",
   "metadata": {},
   "outputs": [
    {
     "data": {
      "text/plain": [
       "3.0"
      ]
     },
     "execution_count": 34,
     "metadata": {},
     "output_type": "execute_result"
    }
   ],
   "source": [
    "value/car"
   ]
  },
  {
   "cell_type": "code",
   "execution_count": 35,
   "id": "fcf09204",
   "metadata": {},
   "outputs": [
    {
     "data": {
      "text/plain": [
       "0"
      ]
     },
     "execution_count": 35,
     "metadata": {},
     "output_type": "execute_result"
    }
   ],
   "source": [
    "value2*value4"
   ]
  },
  {
   "cell_type": "code",
   "execution_count": 36,
   "id": "5b77fa89",
   "metadata": {},
   "outputs": [
    {
     "data": {
      "text/plain": [
       "20.0"
      ]
     },
     "execution_count": 36,
     "metadata": {},
     "output_type": "execute_result"
    }
   ],
   "source": [
    "value3/a"
   ]
  },
  {
   "cell_type": "code",
   "execution_count": 37,
   "id": "8ee0e57e",
   "metadata": {},
   "outputs": [
    {
     "name": "stdout",
     "output_type": "stream",
     "text": [
      "here we are doing the multiplication of a of car: the value is:- 800\n"
     ]
    }
   ],
   "source": [
    "print(\"here we are doing the multiplication of a of car: the value is:-\",value3 )"
   ]
  },
  {
   "cell_type": "markdown",
   "id": "1bbcea26",
   "metadata": {},
   "source": [
    "#$List manipulation$"
   ]
  },
  {
   "cell_type": "code",
   "execution_count": 43,
   "id": "2c4f7246",
   "metadata": {},
   "outputs": [],
   "source": [
    "t=(1,2,3,4,5,\"Pankaj\")"
   ]
  },
  {
   "cell_type": "code",
   "execution_count": 41,
   "id": "c1953e39",
   "metadata": {},
   "outputs": [
    {
     "data": {
      "text/plain": [
       "tuple"
      ]
     },
     "execution_count": 41,
     "metadata": {},
     "output_type": "execute_result"
    }
   ],
   "source": [
    "type(t)"
   ]
  },
  {
   "cell_type": "code",
   "execution_count": 42,
   "id": "3a5470a9",
   "metadata": {},
   "outputs": [
    {
     "data": {
      "text/plain": [
       "type[1, 2, 3, 4, 5, 'Pankaj']"
      ]
     },
     "execution_count": 42,
     "metadata": {},
     "output_type": "execute_result"
    }
   ],
   "source": [
    "type[t]"
   ]
  },
  {
   "cell_type": "code",
   "execution_count": 44,
   "id": "7b987b06",
   "metadata": {},
   "outputs": [],
   "source": [
    "t=[1,2,3,4,5,\"Pankaj\"]"
   ]
  },
  {
   "cell_type": "code",
   "execution_count": 45,
   "id": "908245d0",
   "metadata": {},
   "outputs": [
    {
     "data": {
      "text/plain": [
       "type[[1, 2, 3, 4, 5, 'Pankaj']]"
      ]
     },
     "execution_count": 45,
     "metadata": {},
     "output_type": "execute_result"
    }
   ],
   "source": [
    "type[t]"
   ]
  },
  {
   "cell_type": "code",
   "execution_count": 46,
   "id": "e2fd56d6",
   "metadata": {},
   "outputs": [
    {
     "data": {
      "text/plain": [
       "list"
      ]
     },
     "execution_count": 46,
     "metadata": {},
     "output_type": "execute_result"
    }
   ],
   "source": [
    "type(t)"
   ]
  },
  {
   "cell_type": "code",
   "execution_count": 47,
   "id": "3f3a7b85",
   "metadata": {},
   "outputs": [],
   "source": [
    "b= list(t)"
   ]
  },
  {
   "cell_type": "code",
   "execution_count": 48,
   "id": "c28aa48a",
   "metadata": {},
   "outputs": [
    {
     "data": {
      "text/plain": [
       "list"
      ]
     },
     "execution_count": 48,
     "metadata": {},
     "output_type": "execute_result"
    }
   ],
   "source": [
    "type(b)"
   ]
  },
  {
   "cell_type": "code",
   "execution_count": 49,
   "id": "34f52c41",
   "metadata": {},
   "outputs": [],
   "source": [
    "pankaj=(1,2,3,4,5,\"devisree\")"
   ]
  },
  {
   "cell_type": "code",
   "execution_count": 50,
   "id": "f908a629",
   "metadata": {},
   "outputs": [
    {
     "data": {
      "text/plain": [
       "tuple"
      ]
     },
     "execution_count": 50,
     "metadata": {},
     "output_type": "execute_result"
    }
   ],
   "source": [
    "type(pankaj)"
   ]
  },
  {
   "cell_type": "code",
   "execution_count": 51,
   "id": "f324cbdf",
   "metadata": {},
   "outputs": [],
   "source": [
    "devisree= tuple(pankaj)"
   ]
  },
  {
   "cell_type": "code",
   "execution_count": 52,
   "id": "7e1bd47c",
   "metadata": {},
   "outputs": [
    {
     "data": {
      "text/plain": [
       "tuple"
      ]
     },
     "execution_count": 52,
     "metadata": {},
     "output_type": "execute_result"
    }
   ],
   "source": [
    "type(devisree)"
   ]
  },
  {
   "cell_type": "code",
   "execution_count": 53,
   "id": "2d7e4e2e",
   "metadata": {},
   "outputs": [
    {
     "name": "stdout",
     "output_type": "stream",
     "text": [
      "(1, 2, 3, 4, 5, 'devisree')\n"
     ]
    }
   ],
   "source": [
    "print(devisree)"
   ]
  },
  {
   "cell_type": "code",
   "execution_count": 55,
   "id": "118c43a5",
   "metadata": {},
   "outputs": [],
   "source": [
    "panku={\"name\":\"pankaj\",\"class\":\"fourteen\",\"email_id\":\"Pankajjaiswalpj8801@gmail\"}"
   ]
  },
  {
   "cell_type": "code",
   "execution_count": 56,
   "id": "b9bc1e3b",
   "metadata": {},
   "outputs": [
    {
     "data": {
      "text/plain": [
       "dict"
      ]
     },
     "execution_count": 56,
     "metadata": {},
     "output_type": "execute_result"
    }
   ],
   "source": [
    "type(panku)"
   ]
  },
  {
   "cell_type": "code",
   "execution_count": 57,
   "id": "f1428542",
   "metadata": {},
   "outputs": [],
   "source": [
    "Dev=dict(panku)"
   ]
  },
  {
   "cell_type": "code",
   "execution_count": 58,
   "id": "f510bfc1",
   "metadata": {},
   "outputs": [
    {
     "data": {
      "text/plain": [
       "dict"
      ]
     },
     "execution_count": 58,
     "metadata": {},
     "output_type": "execute_result"
    }
   ],
   "source": [
    "type(Dev)"
   ]
  },
  {
   "cell_type": "markdown",
   "id": "f12debce",
   "metadata": {},
   "source": []
  },
  {
   "cell_type": "markdown",
   "id": "db570f56",
   "metadata": {},
   "source": [
    "###condition"
   ]
  },
  {
   "cell_type": "markdown",
   "id": "35ef679e",
   "metadata": {},
   "source": []
  },
  {
   "cell_type": "markdown",
   "id": "9193c29e",
   "metadata": {},
   "source": []
  },
  {
   "cell_type": "markdown",
   "id": "3929b849",
   "metadata": {},
   "source": [
    "# $conditions$"
   ]
  },
  {
   "cell_type": "markdown",
   "id": "eb461333",
   "metadata": {},
   "source": []
  },
  {
   "cell_type": "markdown",
   "id": "464e432e",
   "metadata": {},
   "source": []
  },
  {
   "cell_type": "code",
   "execution_count": 69,
   "id": "f5931198",
   "metadata": {},
   "outputs": [
    {
     "ename": "SyntaxError",
     "evalue": "invalid syntax (1852142458.py, line 10)",
     "output_type": "error",
     "traceback": [
      "\u001b[1;36m  Cell \u001b[1;32mIn[69], line 10\u001b[1;36m\u001b[0m\n\u001b[1;33m    end the statement\u001b[0m\n\u001b[1;37m        ^\u001b[0m\n\u001b[1;31mSyntaxError\u001b[0m\u001b[1;31m:\u001b[0m invalid syntax\n"
     ]
    }
   ],
   "source": [
    "if condition:\n",
    "    statement\n",
    "elif condition1:\n",
    "    statement1\n",
    "elif condition2:\n",
    "    statement2\n",
    "elif condition3:\n",
    "    statement3\n",
    "else:\n",
    "    end the statement"
   ]
  },
  {
   "cell_type": "code",
   "execution_count": 2,
   "id": "ad2663ac",
   "metadata": {},
   "outputs": [
    {
     "name": "stdout",
     "output_type": "stream",
     "text": [
      "20\n"
     ]
    }
   ],
   "source": [
    "a=10\n",
    "b=20\n",
    "c=a+b\n",
    "if a>b:\n",
    "    print(c)\n",
    "elif a<b:\n",
    "    print(b)\n",
    "elif a!=b:\n",
    "    print(c)\n",
    "else: \n",
    "   print(\"enter the value\")"
   ]
  },
  {
   "cell_type": "code",
   "execution_count": 3,
   "id": "5d9667f9",
   "metadata": {},
   "outputs": [
    {
     "name": "stdout",
     "output_type": "stream",
     "text": [
      "b is greater then a\n"
     ]
    }
   ],
   "source": [
    "a=10\n",
    "b=20\n",
    "if a>b:\n",
    "    print(\"a is greater then b\")\n",
    "if b>a:\n",
    "    print(\"b is greater then a\")"
   ]
  },
  {
   "cell_type": "code",
   "execution_count": 4,
   "id": "b679ed47",
   "metadata": {},
   "outputs": [
    {
     "name": "stdout",
     "output_type": "stream",
     "text": [
      " 1010\n"
     ]
    }
   ],
   "source": [
    "number = 10\n",
    "a=f'{number: b}'\n",
    "print(a)"
   ]
  },
  {
   "cell_type": "code",
   "execution_count": 5,
   "id": "8404ac61",
   "metadata": {},
   "outputs": [
    {
     "name": "stdout",
     "output_type": "stream",
     "text": [
      "11110\n"
     ]
    }
   ],
   "source": [
    "number2 =30 \n",
    "b= f'{number2:0b}'\n",
    "print(b)"
   ]
  },
  {
   "cell_type": "code",
   "execution_count": 6,
   "id": "28e7c92f",
   "metadata": {},
   "outputs": [
    {
     "name": "stdout",
     "output_type": "stream",
     "text": [
      " 000011110\n"
     ]
    }
   ],
   "source": [
    "number3=30\n",
    "c=f'{number2: 010b}'\n",
    "print(c)"
   ]
  },
  {
   "cell_type": "code",
   "execution_count": 9,
   "id": "a6b96184",
   "metadata": {},
   "outputs": [
    {
     "name": "stdout",
     "output_type": "stream",
     "text": [
      "10\n"
     ]
    }
   ],
   "source": [
    "a=10\n",
    "b=20\n",
    "if a==10 or b==20:\n",
    "      print(a)"
   ]
  },
  {
   "cell_type": "code",
   "execution_count": 10,
   "id": "39ae94ab",
   "metadata": {},
   "outputs": [
    {
     "name": "stdout",
     "output_type": "stream",
     "text": [
      "this and condition\n"
     ]
    }
   ],
   "source": [
    "if a==20 and b==20:\n",
    "     print(a)\n",
    "else:\n",
    "    print(\"this and condition\")"
   ]
  },
  {
   "cell_type": "code",
   "execution_count": null,
   "id": "703c2776",
   "metadata": {},
   "outputs": [],
   "source": []
  },
  {
   "cell_type": "code",
   "execution_count": null,
   "id": "edfeb62f",
   "metadata": {},
   "outputs": [],
   "source": []
  }
 ],
 "metadata": {
  "kernelspec": {
   "display_name": "Python 3 (ipykernel)",
   "language": "python",
   "name": "python3"
  },
  "language_info": {
   "codemirror_mode": {
    "name": "ipython",
    "version": 3
   },
   "file_extension": ".py",
   "mimetype": "text/x-python",
   "name": "python",
   "nbconvert_exporter": "python",
   "pygments_lexer": "ipython3",
   "version": "3.10.9"
  }
 },
 "nbformat": 4,
 "nbformat_minor": 5
}
